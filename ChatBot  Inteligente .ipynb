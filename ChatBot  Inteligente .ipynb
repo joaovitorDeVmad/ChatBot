{
 "cells": [
  {
   "cell_type": "code",
   "execution_count": null,
   "id": "1d38e321",
   "metadata": {},
   "outputs": [
    {
     "name": "stdout",
     "output_type": "stream",
     "text": [
      "✔ Download and installation successful\n",
      "You can now load the package via spacy.load('en_core_web_sm')\n",
      "List Trainer: [####################] 100%\n",
      "mande uma mensagem para o chatbotbom dia\n",
      "bom dia cliente como posso ajudar\n",
      "mande uma mensagem para o chatbotqueria fazer um orçamento por favor\n",
      "eu cuidarei disso para voce\n",
      "mande uma mensagem para o chatbotme passaos preços\n",
      "bom dia cliente como posso ajudar\n",
      "mande uma mensagem para o chatbotpreços\n",
      "concerteza ja vou te encaminhar tudo que precisar\n"
     ]
    }
   ],
   "source": [
    "from chatterbot import ChatBot\n",
    "from chatterbot.trainers import ListTrainer \n",
    "from spacy.cli import download\n",
    "# isso aqui só precisa para corrigir o bug\n",
    "download(\"en_core_web_sm\")\n",
    "\n",
    "class ENGSM:\n",
    "    ISO_639_1 = 'en_core_web_sm'\n",
    "\n",
    "\n",
    "\n",
    "chatbot = ChatBot('botzinho',tagger_language=ENGSM)\n",
    "\n",
    "conversa = [\n",
    "    \"bom dia \",\n",
    "    \"bom dia cliente como posso ajudar\",\n",
    "    \"queria fazer um orçamento\",\n",
    "    \"eu cuidarei disso para voce\",\n",
    "    \"poderia me passar os preços dos itens\",\n",
    "    \"concerteza ja vou te encaminhar tudo que precisar\",\n",
    "    \"mais esta muito caro conseque fazer um desconto vista \",\n",
    "    \"no pix ou no dinheiro nossa empresa da exemplo de desconto\",\n",
    "    \"certo vou levar no pix qual e o pix por favor\",\n",
    "    \"o pix e email exemplo\",\n",
    "    \"muito obrigado pelo atendimento\",\n",
    "    \"obrigada voce cliente \",\n",
    "]\n",
    "    \n",
    "trainer = ListTrainer(chatbot)\n",
    "trainer.train(conversa)\n",
    "chatbot.get_response(\"me passa um orçamento\")\n",
    "# caso quiser limpar seu banco de dados voce usa o codigo chatbot.storage.drop()\n",
    "\n",
    "\n",
    "while True:\n",
    "    mensagem= input('mande uma mensagem para o chatbot')\n",
    "    if mensagem == 'parar':\n",
    "        break\n",
    "    resposta = chatbot.get_response(mensagem)   \n",
    "    print(resposta)"
   ]
  },
  {
   "cell_type": "code",
   "execution_count": null,
   "id": "ad6ad5da",
   "metadata": {},
   "outputs": [],
   "source": []
  },
  {
   "cell_type": "code",
   "execution_count": null,
   "id": "cf4ada44",
   "metadata": {},
   "outputs": [],
   "source": []
  },
  {
   "cell_type": "code",
   "execution_count": null,
   "id": "1f8e51d9",
   "metadata": {},
   "outputs": [],
   "source": []
  }
 ],
 "metadata": {
  "kernelspec": {
   "display_name": "Python 3",
   "language": "python",
   "name": "python3"
  },
  "language_info": {
   "codemirror_mode": {
    "name": "ipython",
    "version": 3
   },
   "file_extension": ".py",
   "mimetype": "text/x-python",
   "name": "python",
   "nbconvert_exporter": "python",
   "pygments_lexer": "ipython3",
   "version": "3.6.13"
  }
 },
 "nbformat": 4,
 "nbformat_minor": 5
}
